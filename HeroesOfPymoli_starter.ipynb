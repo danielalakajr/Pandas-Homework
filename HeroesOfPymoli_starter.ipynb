{
 "cells": [
  {
   "cell_type": "markdown",
   "metadata": {},
   "source": [
    "### Heroes Of Pymoli Data Analysis\n",
    "* Of the 1163 active players, the vast majority are male (84%). There also exists, a smaller, but notable proportion of female players (14%).\n",
    "\n",
    "* Our peak age demographic falls between 20-24 (44.8%) with secondary groups falling between 15-19 (18.60%) and 25-29 (13.4%).  \n",
    "-----"
   ]
  },
  {
   "cell_type": "markdown",
   "metadata": {},
   "source": [
    "### Note\n",
    "* Instructions have been included for each segment. You do not have to follow them exactly, but they are included to help you think through the steps."
   ]
  },
  {
   "cell_type": "code",
   "execution_count": 11,
   "metadata": {},
   "outputs": [
    {
     "data": {
      "text/html": [
       "<div>\n",
       "<style scoped>\n",
       "    .dataframe tbody tr th:only-of-type {\n",
       "        vertical-align: middle;\n",
       "    }\n",
       "\n",
       "    .dataframe tbody tr th {\n",
       "        vertical-align: top;\n",
       "    }\n",
       "\n",
       "    .dataframe thead th {\n",
       "        text-align: right;\n",
       "    }\n",
       "</style>\n",
       "<table border=\"1\" class=\"dataframe\">\n",
       "  <thead>\n",
       "    <tr style=\"text-align: right;\">\n",
       "      <th></th>\n",
       "      <th>Purchase ID</th>\n",
       "      <th>SN</th>\n",
       "      <th>Age</th>\n",
       "      <th>Gender</th>\n",
       "      <th>Item ID</th>\n",
       "      <th>Item Name</th>\n",
       "      <th>Price</th>\n",
       "    </tr>\n",
       "  </thead>\n",
       "  <tbody>\n",
       "    <tr>\n",
       "      <th>0</th>\n",
       "      <td>0</td>\n",
       "      <td>Lisim78</td>\n",
       "      <td>20</td>\n",
       "      <td>Male</td>\n",
       "      <td>108</td>\n",
       "      <td>Extraction, Quickblade Of Trembling Hands</td>\n",
       "      <td>3.53</td>\n",
       "    </tr>\n",
       "    <tr>\n",
       "      <th>1</th>\n",
       "      <td>1</td>\n",
       "      <td>Lisovynya38</td>\n",
       "      <td>40</td>\n",
       "      <td>Male</td>\n",
       "      <td>143</td>\n",
       "      <td>Frenzied Scimitar</td>\n",
       "      <td>1.56</td>\n",
       "    </tr>\n",
       "    <tr>\n",
       "      <th>2</th>\n",
       "      <td>2</td>\n",
       "      <td>Ithergue48</td>\n",
       "      <td>24</td>\n",
       "      <td>Male</td>\n",
       "      <td>92</td>\n",
       "      <td>Final Critic</td>\n",
       "      <td>4.88</td>\n",
       "    </tr>\n",
       "    <tr>\n",
       "      <th>3</th>\n",
       "      <td>3</td>\n",
       "      <td>Chamassasya86</td>\n",
       "      <td>24</td>\n",
       "      <td>Male</td>\n",
       "      <td>100</td>\n",
       "      <td>Blindscythe</td>\n",
       "      <td>3.27</td>\n",
       "    </tr>\n",
       "    <tr>\n",
       "      <th>4</th>\n",
       "      <td>4</td>\n",
       "      <td>Iskosia90</td>\n",
       "      <td>23</td>\n",
       "      <td>Male</td>\n",
       "      <td>131</td>\n",
       "      <td>Fury</td>\n",
       "      <td>1.44</td>\n",
       "    </tr>\n",
       "  </tbody>\n",
       "</table>\n",
       "</div>"
      ],
      "text/plain": [
       "   Purchase ID             SN  Age Gender  Item ID  \\\n",
       "0            0        Lisim78   20   Male      108   \n",
       "1            1    Lisovynya38   40   Male      143   \n",
       "2            2     Ithergue48   24   Male       92   \n",
       "3            3  Chamassasya86   24   Male      100   \n",
       "4            4      Iskosia90   23   Male      131   \n",
       "\n",
       "                                   Item Name  Price  \n",
       "0  Extraction, Quickblade Of Trembling Hands   3.53  \n",
       "1                          Frenzied Scimitar   1.56  \n",
       "2                               Final Critic   4.88  \n",
       "3                                Blindscythe   3.27  \n",
       "4                                       Fury   1.44  "
      ]
     },
     "execution_count": 11,
     "metadata": {},
     "output_type": "execute_result"
    }
   ],
   "source": [
    "# Dependencies and Setup\n",
    "import pandas as pd\n",
    "import numpy as np\n",
    "\n",
    "# File to Load (Remember to Change These)\n",
    "file_to_load = \"Resources/purchase_data.csv\"\n",
    "\n",
    "# Read Purchasing File and store into Pandas data frame\n",
    "purchase_data = pd.read_csv(file_to_load)\n",
    "purchase_data.head()"
   ]
  },
  {
   "cell_type": "markdown",
   "metadata": {},
   "source": [
    "## Player Count"
   ]
  },
  {
   "cell_type": "markdown",
   "metadata": {},
   "source": [
    "* Display the total number of players\n"
   ]
  },
  {
   "cell_type": "code",
   "execution_count": 12,
   "metadata": {},
   "outputs": [
    {
     "data": {
      "text/html": [
       "<div>\n",
       "<style scoped>\n",
       "    .dataframe tbody tr th:only-of-type {\n",
       "        vertical-align: middle;\n",
       "    }\n",
       "\n",
       "    .dataframe tbody tr th {\n",
       "        vertical-align: top;\n",
       "    }\n",
       "\n",
       "    .dataframe thead th {\n",
       "        text-align: right;\n",
       "    }\n",
       "</style>\n",
       "<table border=\"1\" class=\"dataframe\">\n",
       "  <thead>\n",
       "    <tr style=\"text-align: right;\">\n",
       "      <th></th>\n",
       "      <th>Total Players</th>\n",
       "    </tr>\n",
       "  </thead>\n",
       "  <tbody>\n",
       "    <tr>\n",
       "      <th>0</th>\n",
       "      <td>576</td>\n",
       "    </tr>\n",
       "  </tbody>\n",
       "</table>\n",
       "</div>"
      ],
      "text/plain": [
       "   Total Players\n",
       "0            576"
      ]
     },
     "execution_count": 12,
     "metadata": {},
     "output_type": "execute_result"
    }
   ],
   "source": [
    "#Calculate the number of unique SN in the DataFrame\n",
    "total_players = len(purchase_data[\"SN\"].unique())\n",
    "\n",
    "# Place all of the data found into a DataFrame\n",
    "total_count = pd.DataFrame({\"Total Players\":[total_players]})\n",
    "total_count"
   ]
  },
  {
   "cell_type": "markdown",
   "metadata": {},
   "source": [
    "## Purchasing Analysis (Total)"
   ]
  },
  {
   "cell_type": "markdown",
   "metadata": {},
   "source": [
    "* Run basic calculations to obtain number of unique items, average price, etc.\n",
    "\n",
    "\n",
    "* Create a summary data frame to hold the results\n",
    "\n",
    "\n",
    "* Optional: give the displayed data cleaner formatting\n",
    "\n",
    "\n",
    "* Display the summary data frame\n"
   ]
  },
  {
   "cell_type": "code",
   "execution_count": 13,
   "metadata": {
    "scrolled": true
   },
   "outputs": [
    {
     "data": {
      "text/html": [
       "<style  type=\"text/css\" >\n",
       "</style><table id=\"T_d1daa384_c052_11e9_acdb_d0a637ef6f85\" ><thead>    <tr>        <th class=\"blank level0\" ></th>        <th class=\"col_heading level0 col0\" >Number of Unique Items</th>        <th class=\"col_heading level0 col1\" >Average Price</th>        <th class=\"col_heading level0 col2\" >Number of Purchases</th>        <th class=\"col_heading level0 col3\" >Total Revenue</th>    </tr></thead><tbody>\n",
       "                <tr>\n",
       "                        <th id=\"T_d1daa384_c052_11e9_acdb_d0a637ef6f85level0_row0\" class=\"row_heading level0 row0\" >0</th>\n",
       "                        <td id=\"T_d1daa384_c052_11e9_acdb_d0a637ef6f85row0_col0\" class=\"data row0 col0\" >183</td>\n",
       "                        <td id=\"T_d1daa384_c052_11e9_acdb_d0a637ef6f85row0_col1\" class=\"data row0 col1\" >$3.05</td>\n",
       "                        <td id=\"T_d1daa384_c052_11e9_acdb_d0a637ef6f85row0_col2\" class=\"data row0 col2\" >780</td>\n",
       "                        <td id=\"T_d1daa384_c052_11e9_acdb_d0a637ef6f85row0_col3\" class=\"data row0 col3\" >$2,379.77</td>\n",
       "            </tr>\n",
       "    </tbody></table>"
      ],
      "text/plain": [
       "<pandas.io.formats.style.Styler at 0x11d5ea470>"
      ]
     },
     "execution_count": 13,
     "metadata": {},
     "output_type": "execute_result"
    }
   ],
   "source": [
    "# Calculate the number of unique purchase_data in the DataFrame\n",
    "number_of_unique_items = len((purchase_data[\"Item ID\"]).unique())\n",
    "# Finding the average price\n",
    "average_price = (purchase_data[\"Price\"]).mean()\n",
    "# Finding how many purchases ID are\n",
    "number_of_purchases = (purchase_data[\"Purchase ID\"]).count()\n",
    "# Finding the total price\n",
    "total_revenue = (purchase_data[\"Price\"]).sum()\n",
    "\n",
    "# Place all of the data found into a summary DataFrame\n",
    "summary_df = pd.DataFrame({\"Number of Unique Items\":[number_of_unique_items],\n",
    "                           \"Average Price\":[average_price], \n",
    "                           \"Number of Purchases\": [number_of_purchases], \n",
    "                           \"Total Revenue\": [total_revenue]})\n",
    "\n",
    "summary_df.style.format({'Average Price':\"${:,.2f}\",\n",
    "                         'Total Revenue': '${:,.2f}'})"
   ]
  },
  {
   "cell_type": "markdown",
   "metadata": {},
   "source": [
    "## Gender Demographics"
   ]
  },
  {
   "cell_type": "markdown",
   "metadata": {},
   "source": [
    "* Percentage and Count of Male Players\n",
    "\n",
    "\n",
    "* Percentage and Count of Female Players\n",
    "\n",
    "\n",
    "* Percentage and Count of Other / Non-Disclosed\n",
    "\n",
    "\n"
   ]
  },
  {
   "cell_type": "code",
   "execution_count": 14,
   "metadata": {},
   "outputs": [
    {
     "data": {
      "text/html": [
       "<style  type=\"text/css\" >\n",
       "</style><table id=\"T_d3faf7a4_c052_11e9_acdb_d0a637ef6f85\" ><thead>    <tr>        <th class=\"blank level0\" ></th>        <th class=\"col_heading level0 col0\" >Total</th>        <th class=\"col_heading level0 col1\" >Percentage of Players</th>    </tr>    <tr>        <th class=\"index_name level0\" >Gender</th>        <th class=\"blank\" ></th>        <th class=\"blank\" ></th>    </tr></thead><tbody>\n",
       "                <tr>\n",
       "                        <th id=\"T_d3faf7a4_c052_11e9_acdb_d0a637ef6f85level0_row0\" class=\"row_heading level0 row0\" >Female</th>\n",
       "                        <td id=\"T_d3faf7a4_c052_11e9_acdb_d0a637ef6f85row0_col0\" class=\"data row0 col0\" >81</td>\n",
       "                        <td id=\"T_d3faf7a4_c052_11e9_acdb_d0a637ef6f85row0_col1\" class=\"data row0 col1\" >14.0625</td>\n",
       "            </tr>\n",
       "            <tr>\n",
       "                        <th id=\"T_d3faf7a4_c052_11e9_acdb_d0a637ef6f85level0_row1\" class=\"row_heading level0 row1\" >Male</th>\n",
       "                        <td id=\"T_d3faf7a4_c052_11e9_acdb_d0a637ef6f85row1_col0\" class=\"data row1 col0\" >484</td>\n",
       "                        <td id=\"T_d3faf7a4_c052_11e9_acdb_d0a637ef6f85row1_col1\" class=\"data row1 col1\" >84.0278</td>\n",
       "            </tr>\n",
       "            <tr>\n",
       "                        <th id=\"T_d3faf7a4_c052_11e9_acdb_d0a637ef6f85level0_row2\" class=\"row_heading level0 row2\" >Other / Non-Disclosed</th>\n",
       "                        <td id=\"T_d3faf7a4_c052_11e9_acdb_d0a637ef6f85row2_col0\" class=\"data row2 col0\" >11</td>\n",
       "                        <td id=\"T_d3faf7a4_c052_11e9_acdb_d0a637ef6f85row2_col1\" class=\"data row2 col1\" >1.90972</td>\n",
       "            </tr>\n",
       "    </tbody></table>"
      ],
      "text/plain": [
       "<pandas.io.formats.style.Styler at 0x11c25d390>"
      ]
     },
     "execution_count": 14,
     "metadata": {},
     "output_type": "execute_result"
    }
   ],
   "source": [
    "# Using GroupBy in order to separate the data into fields according to \"gender\" values\n",
    "gender = purchase_data.groupby(['Gender'])\n",
    "\n",
    "# Count the total of \"SN\" by gender\n",
    "total_gender = gender.nunique()[\"SN\"]\n",
    "\n",
    "# Total count by gender and divivde by total players \n",
    "percentage_of_players = total_gender / total_players * 100\n",
    "\n",
    "# Create data frame \n",
    "gender = pd.DataFrame({\"Total\": total_gender,\"Percentage of Players\": percentage_of_players})\n",
    "\n",
    "\n",
    "# Sort, and reset index\n",
    "gender.sort_values([\"Total\"], ascending = False)\n",
    "\n",
    "gender.style.format({\"Average Purchase Value\":\"${:,.2f}\",\n",
    "                                  \"Average Purchase Price\":\"${:,.2f}\",\n",
    "                                  \"Avg Purchase Total per Person\":\"${:,.2f}\"})\n"
   ]
  },
  {
   "cell_type": "markdown",
   "metadata": {},
   "source": [
    "\n",
    "## Purchasing Analysis (Gender)"
   ]
  },
  {
   "cell_type": "markdown",
   "metadata": {},
   "source": [
    "* Run basic calculations to obtain purchase count, avg. purchase price, avg. purchase total per person etc. by gender\n",
    "\n",
    "\n",
    "\n",
    "\n",
    "* Create a summary data frame to hold the results\n",
    "\n",
    "\n",
    "* Optional: give the displayed data cleaner formatting\n",
    "\n",
    "\n",
    "* Display the summary data frame"
   ]
  },
  {
   "cell_type": "code",
   "execution_count": 41,
   "metadata": {},
   "outputs": [
    {
     "data": {
      "text/html": [
       "<style  type=\"text/css\" >\n",
       "</style><table id=\"T_1e5d2796_c057_11e9_acdb_d0a637ef6f85\" ><thead>    <tr>        <th class=\"blank\" ></th>        <th class=\"blank level0\" ></th>        <th class=\"col_heading level0 col0\" >Purchase Count</th>        <th class=\"col_heading level0 col1\" >Item Price</th>        <th class=\"col_heading level0 col2\" >Total Purchase Value</th>    </tr>    <tr>        <th class=\"index_name level0\" >Item ID</th>        <th class=\"index_name level1\" >Item Name</th>        <th class=\"blank\" ></th>        <th class=\"blank\" ></th>        <th class=\"blank\" ></th>    </tr></thead><tbody>\n",
       "                <tr>\n",
       "                        <th id=\"T_1e5d2796_c057_11e9_acdb_d0a637ef6f85level0_row0\" class=\"row_heading level0 row0\" >178</th>\n",
       "                        <th id=\"T_1e5d2796_c057_11e9_acdb_d0a637ef6f85level1_row0\" class=\"row_heading level1 row0\" >Oathbreaker, Last Hope of the Breaking Storm</th>\n",
       "                        <td id=\"T_1e5d2796_c057_11e9_acdb_d0a637ef6f85row0_col0\" class=\"data row0 col0\" >12</td>\n",
       "                        <td id=\"T_1e5d2796_c057_11e9_acdb_d0a637ef6f85row0_col1\" class=\"data row0 col1\" >$4.23</td>\n",
       "                        <td id=\"T_1e5d2796_c057_11e9_acdb_d0a637ef6f85row0_col2\" class=\"data row0 col2\" >$50.76</td>\n",
       "            </tr>\n",
       "            <tr>\n",
       "                        <th id=\"T_1e5d2796_c057_11e9_acdb_d0a637ef6f85level0_row1\" class=\"row_heading level0 row1\" >145</th>\n",
       "                        <th id=\"T_1e5d2796_c057_11e9_acdb_d0a637ef6f85level1_row1\" class=\"row_heading level1 row1\" >Fiery Glass Crusader</th>\n",
       "                        <td id=\"T_1e5d2796_c057_11e9_acdb_d0a637ef6f85row1_col0\" class=\"data row1 col0\" >9</td>\n",
       "                        <td id=\"T_1e5d2796_c057_11e9_acdb_d0a637ef6f85row1_col1\" class=\"data row1 col1\" >$4.58</td>\n",
       "                        <td id=\"T_1e5d2796_c057_11e9_acdb_d0a637ef6f85row1_col2\" class=\"data row1 col2\" >$41.22</td>\n",
       "            </tr>\n",
       "            <tr>\n",
       "                        <th id=\"T_1e5d2796_c057_11e9_acdb_d0a637ef6f85level0_row2\" class=\"row_heading level0 row2\" >108</th>\n",
       "                        <th id=\"T_1e5d2796_c057_11e9_acdb_d0a637ef6f85level1_row2\" class=\"row_heading level1 row2\" >Extraction, Quickblade Of Trembling Hands</th>\n",
       "                        <td id=\"T_1e5d2796_c057_11e9_acdb_d0a637ef6f85row2_col0\" class=\"data row2 col0\" >9</td>\n",
       "                        <td id=\"T_1e5d2796_c057_11e9_acdb_d0a637ef6f85row2_col1\" class=\"data row2 col1\" >$3.53</td>\n",
       "                        <td id=\"T_1e5d2796_c057_11e9_acdb_d0a637ef6f85row2_col2\" class=\"data row2 col2\" >$31.77</td>\n",
       "            </tr>\n",
       "            <tr>\n",
       "                        <th id=\"T_1e5d2796_c057_11e9_acdb_d0a637ef6f85level0_row3\" class=\"row_heading level0 row3\" >82</th>\n",
       "                        <th id=\"T_1e5d2796_c057_11e9_acdb_d0a637ef6f85level1_row3\" class=\"row_heading level1 row3\" >Nirvana</th>\n",
       "                        <td id=\"T_1e5d2796_c057_11e9_acdb_d0a637ef6f85row3_col0\" class=\"data row3 col0\" >9</td>\n",
       "                        <td id=\"T_1e5d2796_c057_11e9_acdb_d0a637ef6f85row3_col1\" class=\"data row3 col1\" >$4.90</td>\n",
       "                        <td id=\"T_1e5d2796_c057_11e9_acdb_d0a637ef6f85row3_col2\" class=\"data row3 col2\" >$44.10</td>\n",
       "            </tr>\n",
       "            <tr>\n",
       "                        <th id=\"T_1e5d2796_c057_11e9_acdb_d0a637ef6f85level0_row4\" class=\"row_heading level0 row4\" >19</th>\n",
       "                        <th id=\"T_1e5d2796_c057_11e9_acdb_d0a637ef6f85level1_row4\" class=\"row_heading level1 row4\" >Pursuit, Cudgel of Necromancy</th>\n",
       "                        <td id=\"T_1e5d2796_c057_11e9_acdb_d0a637ef6f85row4_col0\" class=\"data row4 col0\" >8</td>\n",
       "                        <td id=\"T_1e5d2796_c057_11e9_acdb_d0a637ef6f85row4_col1\" class=\"data row4 col1\" >$1.02</td>\n",
       "                        <td id=\"T_1e5d2796_c057_11e9_acdb_d0a637ef6f85row4_col2\" class=\"data row4 col2\" >$8.16</td>\n",
       "            </tr>\n",
       "    </tbody></table>"
      ],
      "text/plain": [
       "<pandas.io.formats.style.Styler at 0x11d6277b8>"
      ]
     },
     "execution_count": 41,
     "metadata": {},
     "output_type": "execute_result"
    }
   ],
   "source": [
    "# Create new data frame \n",
    "items = purchase_data[[\"Item ID\", \"Item Name\", \"Price\"]]\n",
    "\n",
    "# Group the item data by \"Item ID\" and \"Item Name\" \n",
    "item = items.groupby([\"Item ID\",\"Item Name\"])\n",
    "\n",
    "# Count the number of times an item has been purchased \n",
    "purchase_count_item = item[\"Price\"].count()\n",
    "\n",
    "# Calcualte the purchase value per item \n",
    "purchase_value = (item[\"Price\"].sum()) \n",
    "\n",
    "# Find individual item price\n",
    "item_price = purchase_value/purchase_count_item\n",
    "\n",
    "# Create data frame with news values\n",
    "items = pd.DataFrame({\"Purchase Count\": purchase_count_item, \n",
    "                                   \"Item Price\": item_price,\n",
    "                                   \"Total Purchase Value\":purchase_value})\n",
    "\n",
    "# Sort in descending order \n",
    "#popular_formatted = items.sort_values([\"Purchase Count\"], ascending=False).head()\n",
    "\n",
    "\n",
    "popular_formatted.style.format({\"Item Price\":\"${:,.2f}\",\n",
    "                                \"Total Purchase Value\":\"${:,.2f}\"})\n"
   ]
  },
  {
   "cell_type": "markdown",
   "metadata": {},
   "source": [
    "## Age Demographics"
   ]
  },
  {
   "cell_type": "markdown",
   "metadata": {},
   "source": [
    "* Establish bins for ages\n",
    "\n",
    "\n",
    "* Categorize the existing players using the age bins. Hint: use pd.cut()\n",
    "\n",
    "\n",
    "* Calculate the numbers and percentages by age group\n",
    "\n",
    "\n",
    "* Create a summary data frame to hold the results\n",
    "\n",
    "\n",
    "* Optional: round the percentage column to two decimal points\n",
    "\n",
    "\n",
    "* Display Age Demographics Table\n"
   ]
  },
  {
   "cell_type": "code",
   "execution_count": 49,
   "metadata": {},
   "outputs": [
    {
     "data": {
      "text/html": [
       "<style  type=\"text/css\" >\n",
       "</style><table id=\"T_68599154_c057_11e9_acdb_d0a637ef6f85\" ><thead>    <tr>        <th class=\"blank level0\" ></th>        <th class=\"col_heading level0 col0\" >Total Count</th>        <th class=\"col_heading level0 col1\" >Percentage of Players</th>    </tr>    <tr>        <th class=\"index_name level0\" >Age Group</th>        <th class=\"blank\" ></th>        <th class=\"blank\" ></th>    </tr></thead><tbody>\n",
       "                <tr>\n",
       "                        <th id=\"T_68599154_c057_11e9_acdb_d0a637ef6f85level0_row0\" class=\"row_heading level0 row0\" ><10</th>\n",
       "                        <td id=\"T_68599154_c057_11e9_acdb_d0a637ef6f85row0_col0\" class=\"data row0 col0\" >17</td>\n",
       "                        <td id=\"T_68599154_c057_11e9_acdb_d0a637ef6f85row0_col1\" class=\"data row0 col1\" >2.95</td>\n",
       "            </tr>\n",
       "            <tr>\n",
       "                        <th id=\"T_68599154_c057_11e9_acdb_d0a637ef6f85level0_row1\" class=\"row_heading level0 row1\" >10-14</th>\n",
       "                        <td id=\"T_68599154_c057_11e9_acdb_d0a637ef6f85row1_col0\" class=\"data row1 col0\" >22</td>\n",
       "                        <td id=\"T_68599154_c057_11e9_acdb_d0a637ef6f85row1_col1\" class=\"data row1 col1\" >3.82</td>\n",
       "            </tr>\n",
       "            <tr>\n",
       "                        <th id=\"T_68599154_c057_11e9_acdb_d0a637ef6f85level0_row2\" class=\"row_heading level0 row2\" >15-19</th>\n",
       "                        <td id=\"T_68599154_c057_11e9_acdb_d0a637ef6f85row2_col0\" class=\"data row2 col0\" >107</td>\n",
       "                        <td id=\"T_68599154_c057_11e9_acdb_d0a637ef6f85row2_col1\" class=\"data row2 col1\" >18.58</td>\n",
       "            </tr>\n",
       "            <tr>\n",
       "                        <th id=\"T_68599154_c057_11e9_acdb_d0a637ef6f85level0_row3\" class=\"row_heading level0 row3\" >20-24</th>\n",
       "                        <td id=\"T_68599154_c057_11e9_acdb_d0a637ef6f85row3_col0\" class=\"data row3 col0\" >258</td>\n",
       "                        <td id=\"T_68599154_c057_11e9_acdb_d0a637ef6f85row3_col1\" class=\"data row3 col1\" >44.79</td>\n",
       "            </tr>\n",
       "            <tr>\n",
       "                        <th id=\"T_68599154_c057_11e9_acdb_d0a637ef6f85level0_row4\" class=\"row_heading level0 row4\" >25-29</th>\n",
       "                        <td id=\"T_68599154_c057_11e9_acdb_d0a637ef6f85row4_col0\" class=\"data row4 col0\" >77</td>\n",
       "                        <td id=\"T_68599154_c057_11e9_acdb_d0a637ef6f85row4_col1\" class=\"data row4 col1\" >13.37</td>\n",
       "            </tr>\n",
       "            <tr>\n",
       "                        <th id=\"T_68599154_c057_11e9_acdb_d0a637ef6f85level0_row5\" class=\"row_heading level0 row5\" >30-34</th>\n",
       "                        <td id=\"T_68599154_c057_11e9_acdb_d0a637ef6f85row5_col0\" class=\"data row5 col0\" >52</td>\n",
       "                        <td id=\"T_68599154_c057_11e9_acdb_d0a637ef6f85row5_col1\" class=\"data row5 col1\" >9.03</td>\n",
       "            </tr>\n",
       "            <tr>\n",
       "                        <th id=\"T_68599154_c057_11e9_acdb_d0a637ef6f85level0_row6\" class=\"row_heading level0 row6\" >35-39</th>\n",
       "                        <td id=\"T_68599154_c057_11e9_acdb_d0a637ef6f85row6_col0\" class=\"data row6 col0\" >31</td>\n",
       "                        <td id=\"T_68599154_c057_11e9_acdb_d0a637ef6f85row6_col1\" class=\"data row6 col1\" >5.38</td>\n",
       "            </tr>\n",
       "            <tr>\n",
       "                        <th id=\"T_68599154_c057_11e9_acdb_d0a637ef6f85level0_row7\" class=\"row_heading level0 row7\" >40+</th>\n",
       "                        <td id=\"T_68599154_c057_11e9_acdb_d0a637ef6f85row7_col0\" class=\"data row7 col0\" >12</td>\n",
       "                        <td id=\"T_68599154_c057_11e9_acdb_d0a637ef6f85row7_col1\" class=\"data row7 col1\" >2.08</td>\n",
       "            </tr>\n",
       "    </tbody></table>"
      ],
      "text/plain": [
       "<pandas.io.formats.style.Styler at 0x11d725240>"
      ]
     },
     "execution_count": 49,
     "metadata": {},
     "output_type": "execute_result"
    }
   ],
   "source": [
    "# Create bins in which to place values based upon group of names\n",
    "age_bins = [0, 9.90, 14.90, 19.90, 24.90, 29.90, 34.90, 39.90, 99999]\n",
    "group_names = [\"<10\",\"10-14\",\"15-19\", \"20-24\", \"25-29\", \"30-34\", \"35-39\",\"40+\"]\n",
    "# Place the data series into a new column inside of the DataFrame\n",
    "purchase_data[\"Age Group\"] = pd.cut(purchase_data[\"Age\"],age_bins, labels=group_names)\n",
    "#purchase_data\n",
    "\n",
    "# Create new data frame with the added \"Age Group\" and group it\n",
    "#age_grouped = purchase_data.groupby(\"Age Group\")\n",
    "\n",
    "# Count total players by age category\n",
    "#total_count_age = age_grouped[\"SN\"].nunique()\n",
    "\n",
    "# Calculate percentages by age category \n",
    "percentage_by_age = (total_count_age/total_players) * 100\n",
    "\n",
    "# Create data frame with new values\n",
    "age = pd.DataFrame({\"Total Count\": total_count_age, \"Percentage of Players\": percentage_by_age})\n",
    "\n",
    "age.style.format({\"Percentage of Players\":\"{:,.2f}\"})"
   ]
  },
  {
   "cell_type": "markdown",
   "metadata": {},
   "source": [
    "## Purchasing Analysis (Age)"
   ]
  },
  {
   "cell_type": "markdown",
   "metadata": {},
   "source": [
    "* Bin the purchase_data data frame by age\n",
    "\n",
    "\n",
    "* Run basic calculations to obtain purchase count, avg. purchase price, avg. purchase total per person etc. in the table below\n",
    "\n",
    "\n",
    "* Create a summary data frame to hold the results\n",
    "\n",
    "\n",
    "* Optional: give the displayed data cleaner formatting\n",
    "\n",
    "\n",
    "* Display the summary data frame"
   ]
  },
  {
   "cell_type": "code",
   "execution_count": 45,
   "metadata": {},
   "outputs": [
    {
     "data": {
      "text/html": [
       "<style  type=\"text/css\" >\n",
       "</style><table id=\"T_2e5a0420_c057_11e9_acdb_d0a637ef6f85\" ><thead>    <tr>        <th class=\"blank level0\" ></th>        <th class=\"col_heading level0 col0\" >Purchase Count</th>        <th class=\"col_heading level0 col1\" >Average Purchase Price</th>        <th class=\"col_heading level0 col2\" >Total Purchase Value</th>        <th class=\"col_heading level0 col3\" >Avg Purchase Total per Person</th>    </tr>    <tr>        <th class=\"index_name level0\" >Age Group</th>        <th class=\"blank\" ></th>        <th class=\"blank\" ></th>        <th class=\"blank\" ></th>        <th class=\"blank\" ></th>    </tr></thead><tbody>\n",
       "                <tr>\n",
       "                        <th id=\"T_2e5a0420_c057_11e9_acdb_d0a637ef6f85level0_row0\" class=\"row_heading level0 row0\" ><10</th>\n",
       "                        <td id=\"T_2e5a0420_c057_11e9_acdb_d0a637ef6f85row0_col0\" class=\"data row0 col0\" >23</td>\n",
       "                        <td id=\"T_2e5a0420_c057_11e9_acdb_d0a637ef6f85row0_col1\" class=\"data row0 col1\" >$3.35</td>\n",
       "                        <td id=\"T_2e5a0420_c057_11e9_acdb_d0a637ef6f85row0_col2\" class=\"data row0 col2\" >$77.13</td>\n",
       "                        <td id=\"T_2e5a0420_c057_11e9_acdb_d0a637ef6f85row0_col3\" class=\"data row0 col3\" >3.35348</td>\n",
       "            </tr>\n",
       "            <tr>\n",
       "                        <th id=\"T_2e5a0420_c057_11e9_acdb_d0a637ef6f85level0_row1\" class=\"row_heading level0 row1\" >10-14</th>\n",
       "                        <td id=\"T_2e5a0420_c057_11e9_acdb_d0a637ef6f85row1_col0\" class=\"data row1 col0\" >28</td>\n",
       "                        <td id=\"T_2e5a0420_c057_11e9_acdb_d0a637ef6f85row1_col1\" class=\"data row1 col1\" >$2.96</td>\n",
       "                        <td id=\"T_2e5a0420_c057_11e9_acdb_d0a637ef6f85row1_col2\" class=\"data row1 col2\" >$82.78</td>\n",
       "                        <td id=\"T_2e5a0420_c057_11e9_acdb_d0a637ef6f85row1_col3\" class=\"data row1 col3\" >2.95643</td>\n",
       "            </tr>\n",
       "            <tr>\n",
       "                        <th id=\"T_2e5a0420_c057_11e9_acdb_d0a637ef6f85level0_row2\" class=\"row_heading level0 row2\" >15-19</th>\n",
       "                        <td id=\"T_2e5a0420_c057_11e9_acdb_d0a637ef6f85row2_col0\" class=\"data row2 col0\" >136</td>\n",
       "                        <td id=\"T_2e5a0420_c057_11e9_acdb_d0a637ef6f85row2_col1\" class=\"data row2 col1\" >$3.04</td>\n",
       "                        <td id=\"T_2e5a0420_c057_11e9_acdb_d0a637ef6f85row2_col2\" class=\"data row2 col2\" >$412.89</td>\n",
       "                        <td id=\"T_2e5a0420_c057_11e9_acdb_d0a637ef6f85row2_col3\" class=\"data row2 col3\" >3.03596</td>\n",
       "            </tr>\n",
       "            <tr>\n",
       "                        <th id=\"T_2e5a0420_c057_11e9_acdb_d0a637ef6f85level0_row3\" class=\"row_heading level0 row3\" >20-24</th>\n",
       "                        <td id=\"T_2e5a0420_c057_11e9_acdb_d0a637ef6f85row3_col0\" class=\"data row3 col0\" >365</td>\n",
       "                        <td id=\"T_2e5a0420_c057_11e9_acdb_d0a637ef6f85row3_col1\" class=\"data row3 col1\" >$3.05</td>\n",
       "                        <td id=\"T_2e5a0420_c057_11e9_acdb_d0a637ef6f85row3_col2\" class=\"data row3 col2\" >$1,114.06</td>\n",
       "                        <td id=\"T_2e5a0420_c057_11e9_acdb_d0a637ef6f85row3_col3\" class=\"data row3 col3\" >3.05222</td>\n",
       "            </tr>\n",
       "            <tr>\n",
       "                        <th id=\"T_2e5a0420_c057_11e9_acdb_d0a637ef6f85level0_row4\" class=\"row_heading level0 row4\" >25-29</th>\n",
       "                        <td id=\"T_2e5a0420_c057_11e9_acdb_d0a637ef6f85row4_col0\" class=\"data row4 col0\" >101</td>\n",
       "                        <td id=\"T_2e5a0420_c057_11e9_acdb_d0a637ef6f85row4_col1\" class=\"data row4 col1\" >$2.90</td>\n",
       "                        <td id=\"T_2e5a0420_c057_11e9_acdb_d0a637ef6f85row4_col2\" class=\"data row4 col2\" >$293.00</td>\n",
       "                        <td id=\"T_2e5a0420_c057_11e9_acdb_d0a637ef6f85row4_col3\" class=\"data row4 col3\" >2.90099</td>\n",
       "            </tr>\n",
       "            <tr>\n",
       "                        <th id=\"T_2e5a0420_c057_11e9_acdb_d0a637ef6f85level0_row5\" class=\"row_heading level0 row5\" >30-34</th>\n",
       "                        <td id=\"T_2e5a0420_c057_11e9_acdb_d0a637ef6f85row5_col0\" class=\"data row5 col0\" >73</td>\n",
       "                        <td id=\"T_2e5a0420_c057_11e9_acdb_d0a637ef6f85row5_col1\" class=\"data row5 col1\" >$2.93</td>\n",
       "                        <td id=\"T_2e5a0420_c057_11e9_acdb_d0a637ef6f85row5_col2\" class=\"data row5 col2\" >$214.00</td>\n",
       "                        <td id=\"T_2e5a0420_c057_11e9_acdb_d0a637ef6f85row5_col3\" class=\"data row5 col3\" >2.93151</td>\n",
       "            </tr>\n",
       "            <tr>\n",
       "                        <th id=\"T_2e5a0420_c057_11e9_acdb_d0a637ef6f85level0_row6\" class=\"row_heading level0 row6\" >35-39</th>\n",
       "                        <td id=\"T_2e5a0420_c057_11e9_acdb_d0a637ef6f85row6_col0\" class=\"data row6 col0\" >41</td>\n",
       "                        <td id=\"T_2e5a0420_c057_11e9_acdb_d0a637ef6f85row6_col1\" class=\"data row6 col1\" >$3.60</td>\n",
       "                        <td id=\"T_2e5a0420_c057_11e9_acdb_d0a637ef6f85row6_col2\" class=\"data row6 col2\" >$147.67</td>\n",
       "                        <td id=\"T_2e5a0420_c057_11e9_acdb_d0a637ef6f85row6_col3\" class=\"data row6 col3\" >3.60171</td>\n",
       "            </tr>\n",
       "            <tr>\n",
       "                        <th id=\"T_2e5a0420_c057_11e9_acdb_d0a637ef6f85level0_row7\" class=\"row_heading level0 row7\" >40+</th>\n",
       "                        <td id=\"T_2e5a0420_c057_11e9_acdb_d0a637ef6f85row7_col0\" class=\"data row7 col0\" >13</td>\n",
       "                        <td id=\"T_2e5a0420_c057_11e9_acdb_d0a637ef6f85row7_col1\" class=\"data row7 col1\" >$2.94</td>\n",
       "                        <td id=\"T_2e5a0420_c057_11e9_acdb_d0a637ef6f85row7_col2\" class=\"data row7 col2\" >$38.24</td>\n",
       "                        <td id=\"T_2e5a0420_c057_11e9_acdb_d0a637ef6f85row7_col3\" class=\"data row7 col3\" >2.94154</td>\n",
       "            </tr>\n",
       "    </tbody></table>"
      ],
      "text/plain": [
       "<pandas.io.formats.style.Styler at 0x11d5e5fd0>"
      ]
     },
     "execution_count": 45,
     "metadata": {},
     "output_type": "execute_result"
    }
   ],
   "source": [
    "\n",
    "# Count the total purchases \n",
    "purchase_count_age = age_grouped[\"Purchase ID\"].count()\n",
    "# Calculate the average purchase\n",
    "purchase_count_avg = age_grouped[\"Price\"].mean()\n",
    "# Calculate purchase total \n",
    "total_purchase_value = age_grouped[\"Price\"].sum()\n",
    "\n",
    "avg_purchase_total_per_person = total_purchase_value/purchase_count_age\n",
    "\n",
    "# Create data frame with new values\n",
    "age= pd.DataFrame({\"Purchase Count\": purchase_count_age,\n",
    "                                 \"Average Purchase Price\": purchase_count_avg,\n",
    "                                 \"Total Purchase Value\":total_purchase_value,\n",
    "                                 \"Avg Purchase Total per Person\": avg_purchase_total_per_person})\n",
    "\n",
    "age.style.format({\"Average Purchase Price\":\"${:,.2f}\",\n",
    "                               \"Total Purchase Value\":\"${:,.2f}\",\n",
    "                               \"Average Purchase Total per Person\":\"${:,.2f}\"})\n"
   ]
  },
  {
   "cell_type": "markdown",
   "metadata": {},
   "source": [
    "## Top Spenders"
   ]
  },
  {
   "cell_type": "markdown",
   "metadata": {},
   "source": [
    "* Run basic calculations to obtain the results in the table below\n",
    "\n",
    "\n",
    "* Create a summary data frame to hold the results\n",
    "\n",
    "\n",
    "* Sort the total purchase value column in descending order\n",
    "\n",
    "\n",
    "* Optional: give the displayed data cleaner formatting\n",
    "\n",
    "\n",
    "* Display a preview of the summary data frame\n",
    "\n"
   ]
  },
  {
   "cell_type": "code",
   "execution_count": 25,
   "metadata": {},
   "outputs": [
    {
     "data": {
      "text/html": [
       "<style  type=\"text/css\" >\n",
       "</style><table id=\"T_77240046_c054_11e9_acdb_d0a637ef6f85\" ><thead>    <tr>        <th class=\"blank level0\" ></th>        <th class=\"col_heading level0 col0\" >Purchase Count</th>        <th class=\"col_heading level0 col1\" >Average Purchase Price</th>        <th class=\"col_heading level0 col2\" >Total Purchase Value</th>    </tr>    <tr>        <th class=\"index_name level0\" >SN</th>        <th class=\"blank\" ></th>        <th class=\"blank\" ></th>        <th class=\"blank\" ></th>    </tr></thead><tbody>\n",
       "                <tr>\n",
       "                        <th id=\"T_77240046_c054_11e9_acdb_d0a637ef6f85level0_row0\" class=\"row_heading level0 row0\" >Lisosia93</th>\n",
       "                        <td id=\"T_77240046_c054_11e9_acdb_d0a637ef6f85row0_col0\" class=\"data row0 col0\" >5</td>\n",
       "                        <td id=\"T_77240046_c054_11e9_acdb_d0a637ef6f85row0_col1\" class=\"data row0 col1\" >$3.79</td>\n",
       "                        <td id=\"T_77240046_c054_11e9_acdb_d0a637ef6f85row0_col2\" class=\"data row0 col2\" >$18.96</td>\n",
       "            </tr>\n",
       "            <tr>\n",
       "                        <th id=\"T_77240046_c054_11e9_acdb_d0a637ef6f85level0_row1\" class=\"row_heading level0 row1\" >Idastidru52</th>\n",
       "                        <td id=\"T_77240046_c054_11e9_acdb_d0a637ef6f85row1_col0\" class=\"data row1 col0\" >4</td>\n",
       "                        <td id=\"T_77240046_c054_11e9_acdb_d0a637ef6f85row1_col1\" class=\"data row1 col1\" >$3.86</td>\n",
       "                        <td id=\"T_77240046_c054_11e9_acdb_d0a637ef6f85row1_col2\" class=\"data row1 col2\" >$15.45</td>\n",
       "            </tr>\n",
       "            <tr>\n",
       "                        <th id=\"T_77240046_c054_11e9_acdb_d0a637ef6f85level0_row2\" class=\"row_heading level0 row2\" >Chamjask73</th>\n",
       "                        <td id=\"T_77240046_c054_11e9_acdb_d0a637ef6f85row2_col0\" class=\"data row2 col0\" >3</td>\n",
       "                        <td id=\"T_77240046_c054_11e9_acdb_d0a637ef6f85row2_col1\" class=\"data row2 col1\" >$4.61</td>\n",
       "                        <td id=\"T_77240046_c054_11e9_acdb_d0a637ef6f85row2_col2\" class=\"data row2 col2\" >$13.83</td>\n",
       "            </tr>\n",
       "            <tr>\n",
       "                        <th id=\"T_77240046_c054_11e9_acdb_d0a637ef6f85level0_row3\" class=\"row_heading level0 row3\" >Iral74</th>\n",
       "                        <td id=\"T_77240046_c054_11e9_acdb_d0a637ef6f85row3_col0\" class=\"data row3 col0\" >4</td>\n",
       "                        <td id=\"T_77240046_c054_11e9_acdb_d0a637ef6f85row3_col1\" class=\"data row3 col1\" >$3.40</td>\n",
       "                        <td id=\"T_77240046_c054_11e9_acdb_d0a637ef6f85row3_col2\" class=\"data row3 col2\" >$13.62</td>\n",
       "            </tr>\n",
       "            <tr>\n",
       "                        <th id=\"T_77240046_c054_11e9_acdb_d0a637ef6f85level0_row4\" class=\"row_heading level0 row4\" >Iskadarya95</th>\n",
       "                        <td id=\"T_77240046_c054_11e9_acdb_d0a637ef6f85row4_col0\" class=\"data row4 col0\" >3</td>\n",
       "                        <td id=\"T_77240046_c054_11e9_acdb_d0a637ef6f85row4_col1\" class=\"data row4 col1\" >$4.37</td>\n",
       "                        <td id=\"T_77240046_c054_11e9_acdb_d0a637ef6f85row4_col2\" class=\"data row4 col2\" >$13.10</td>\n",
       "            </tr>\n",
       "    </tbody></table>"
      ],
      "text/plain": [
       "<pandas.io.formats.style.Styler at 0x11d5fd5f8>"
      ]
     },
     "execution_count": 25,
     "metadata": {},
     "output_type": "execute_result"
    }
   ],
   "source": [
    "# Group purchase data \n",
    "value = purchase_data.groupby(\"SN\")\n",
    "\n",
    "#Count the total purchases \n",
    "purchase_count_value = value[\"Purchase ID\"].count()\n",
    "\n",
    "#Calculate the average purchase\n",
    "avg_purchase_price_value = value[\"Price\"].mean()\n",
    "\n",
    "#Calculate purchase total \n",
    "purchase_total_value = value[\"Price\"].sum()\n",
    "\n",
    "#Create new data frame with new values\n",
    "top_value = pd.DataFrame({\"Purchase Count\": purchase_count_value,\n",
    "                             \"Average Purchase Price\": avg_purchase_price_value,\n",
    "                             \"Total Purchase Value\":purchase_total_value})\n",
    "\n",
    "values.style.format({\"Average Purchase Total\":\"${:,.2f}\",\n",
    "                                 \"Average Purchase Price\":\"${:,.2f}\", \n",
    "                                 \"Total Purchase Value\":\"${:,.2f}\"})"
   ]
  },
  {
   "cell_type": "markdown",
   "metadata": {},
   "source": [
    "## Most Popular Items"
   ]
  },
  {
   "cell_type": "markdown",
   "metadata": {},
   "source": [
    "* Retrieve the Item ID, Item Name, and Item Price columns\n",
    "\n",
    "\n",
    "* Group by Item ID and Item Name. Perform calculations to obtain purchase count, item price, and total purchase value\n",
    "\n",
    "\n",
    "* Create a summary data frame to hold the results\n",
    "\n",
    "\n",
    "* Sort the purchase count column in descending order\n",
    "\n",
    "\n",
    "* Optional: give the displayed data cleaner formatting\n",
    "\n",
    "\n",
    "* Display a preview of the summary data frame\n",
    "\n"
   ]
  },
  {
   "cell_type": "code",
   "execution_count": 34,
   "metadata": {},
   "outputs": [
    {
     "data": {
      "text/html": [
       "<style  type=\"text/css\" >\n",
       "</style><table id=\"T_469b6260_c055_11e9_acdb_d0a637ef6f85\" ><thead>    <tr>        <th class=\"blank\" ></th>        <th class=\"blank level0\" ></th>        <th class=\"col_heading level0 col0\" >Purchase Count</th>        <th class=\"col_heading level0 col1\" >Item Price</th>        <th class=\"col_heading level0 col2\" >Total Purchase Value</th>    </tr>    <tr>        <th class=\"index_name level0\" >Item ID</th>        <th class=\"index_name level1\" >Item Name</th>        <th class=\"blank\" ></th>        <th class=\"blank\" ></th>        <th class=\"blank\" ></th>    </tr></thead><tbody>\n",
       "                <tr>\n",
       "                        <th id=\"T_469b6260_c055_11e9_acdb_d0a637ef6f85level0_row0\" class=\"row_heading level0 row0\" >178</th>\n",
       "                        <th id=\"T_469b6260_c055_11e9_acdb_d0a637ef6f85level1_row0\" class=\"row_heading level1 row0\" >Oathbreaker, Last Hope of the Breaking Storm</th>\n",
       "                        <td id=\"T_469b6260_c055_11e9_acdb_d0a637ef6f85row0_col0\" class=\"data row0 col0\" >12</td>\n",
       "                        <td id=\"T_469b6260_c055_11e9_acdb_d0a637ef6f85row0_col1\" class=\"data row0 col1\" >$4.23</td>\n",
       "                        <td id=\"T_469b6260_c055_11e9_acdb_d0a637ef6f85row0_col2\" class=\"data row0 col2\" >$50.76</td>\n",
       "            </tr>\n",
       "            <tr>\n",
       "                        <th id=\"T_469b6260_c055_11e9_acdb_d0a637ef6f85level0_row1\" class=\"row_heading level0 row1\" >145</th>\n",
       "                        <th id=\"T_469b6260_c055_11e9_acdb_d0a637ef6f85level1_row1\" class=\"row_heading level1 row1\" >Fiery Glass Crusader</th>\n",
       "                        <td id=\"T_469b6260_c055_11e9_acdb_d0a637ef6f85row1_col0\" class=\"data row1 col0\" >9</td>\n",
       "                        <td id=\"T_469b6260_c055_11e9_acdb_d0a637ef6f85row1_col1\" class=\"data row1 col1\" >$4.58</td>\n",
       "                        <td id=\"T_469b6260_c055_11e9_acdb_d0a637ef6f85row1_col2\" class=\"data row1 col2\" >$41.22</td>\n",
       "            </tr>\n",
       "            <tr>\n",
       "                        <th id=\"T_469b6260_c055_11e9_acdb_d0a637ef6f85level0_row2\" class=\"row_heading level0 row2\" >108</th>\n",
       "                        <th id=\"T_469b6260_c055_11e9_acdb_d0a637ef6f85level1_row2\" class=\"row_heading level1 row2\" >Extraction, Quickblade Of Trembling Hands</th>\n",
       "                        <td id=\"T_469b6260_c055_11e9_acdb_d0a637ef6f85row2_col0\" class=\"data row2 col0\" >9</td>\n",
       "                        <td id=\"T_469b6260_c055_11e9_acdb_d0a637ef6f85row2_col1\" class=\"data row2 col1\" >$3.53</td>\n",
       "                        <td id=\"T_469b6260_c055_11e9_acdb_d0a637ef6f85row2_col2\" class=\"data row2 col2\" >$31.77</td>\n",
       "            </tr>\n",
       "            <tr>\n",
       "                        <th id=\"T_469b6260_c055_11e9_acdb_d0a637ef6f85level0_row3\" class=\"row_heading level0 row3\" >82</th>\n",
       "                        <th id=\"T_469b6260_c055_11e9_acdb_d0a637ef6f85level1_row3\" class=\"row_heading level1 row3\" >Nirvana</th>\n",
       "                        <td id=\"T_469b6260_c055_11e9_acdb_d0a637ef6f85row3_col0\" class=\"data row3 col0\" >9</td>\n",
       "                        <td id=\"T_469b6260_c055_11e9_acdb_d0a637ef6f85row3_col1\" class=\"data row3 col1\" >$4.90</td>\n",
       "                        <td id=\"T_469b6260_c055_11e9_acdb_d0a637ef6f85row3_col2\" class=\"data row3 col2\" >$44.10</td>\n",
       "            </tr>\n",
       "            <tr>\n",
       "                        <th id=\"T_469b6260_c055_11e9_acdb_d0a637ef6f85level0_row4\" class=\"row_heading level0 row4\" >19</th>\n",
       "                        <th id=\"T_469b6260_c055_11e9_acdb_d0a637ef6f85level1_row4\" class=\"row_heading level1 row4\" >Pursuit, Cudgel of Necromancy</th>\n",
       "                        <td id=\"T_469b6260_c055_11e9_acdb_d0a637ef6f85row4_col0\" class=\"data row4 col0\" >8</td>\n",
       "                        <td id=\"T_469b6260_c055_11e9_acdb_d0a637ef6f85row4_col1\" class=\"data row4 col1\" >$1.02</td>\n",
       "                        <td id=\"T_469b6260_c055_11e9_acdb_d0a637ef6f85row4_col2\" class=\"data row4 col2\" >$8.16</td>\n",
       "            </tr>\n",
       "    </tbody></table>"
      ],
      "text/plain": [
       "<pandas.io.formats.style.Styler at 0x11d5ea710>"
      ]
     },
     "execution_count": 34,
     "metadata": {},
     "output_type": "execute_result"
    }
   ],
   "source": [
    "# Create new data frame \n",
    "items = purchase_data[[\"Item ID\", \"Item Name\", \"Price\"]]\n",
    "\n",
    "# Group the item data by \"Item ID\" and \"Item Name\" \n",
    "item= items.groupby([\"Item ID\",\"Item Name\"])\n",
    "\n",
    "# Count the number of times an item has been purchased \n",
    "purchase_count_item = item[\"Price\"].count()\n",
    "\n",
    "# Calcualte the purchase value \n",
    "purchase_value = (item[\"Price\"].sum()) \n",
    "\n",
    "item_price = purchase_value/purchase_count_item\n",
    "\n",
    "# Create data frame with new values\n",
    "popular_items = pd.DataFrame({\"Purchase Count\": purchase_count_item, \n",
    "                                   \"Item Price\": item_price,\n",
    "                                   \"Total Purchase Value\":purchase_value})\n",
    "\n",
    "popular_formatted = popular_items.sort_values([\"Purchase Count\"], ascending=False).head()\n",
    "\n",
    "popular_formatted.style.format({\"Item Price\":\"${:,.2f}\",\n",
    "                                \"Total Purchase Value\":\"${:,.2f}\"})"
   ]
  },
  {
   "cell_type": "markdown",
   "metadata": {},
   "source": [
    "## Most Profitable Items"
   ]
  },
  {
   "cell_type": "markdown",
   "metadata": {},
   "source": [
    "* Sort the above table by total purchase value in descending order\n",
    "\n",
    "\n",
    "* Optional: give the displayed data cleaner formatting\n",
    "\n",
    "\n",
    "* Display a preview of the data frame\n",
    "\n"
   ]
  },
  {
   "cell_type": "code",
   "execution_count": 33,
   "metadata": {
    "scrolled": true
   },
   "outputs": [
    {
     "data": {
      "text/html": [
       "<style  type=\"text/css\" >\n",
       "</style><table id=\"T_35957eba_c055_11e9_acdb_d0a637ef6f85\" ><thead>    <tr>        <th class=\"blank\" ></th>        <th class=\"blank level0\" ></th>        <th class=\"col_heading level0 col0\" >Purchase Count</th>        <th class=\"col_heading level0 col1\" >Item Price</th>        <th class=\"col_heading level0 col2\" >Total Purchase Value</th>    </tr>    <tr>        <th class=\"index_name level0\" >Item ID</th>        <th class=\"index_name level1\" >Item Name</th>        <th class=\"blank\" ></th>        <th class=\"blank\" ></th>        <th class=\"blank\" ></th>    </tr></thead><tbody>\n",
       "                <tr>\n",
       "                        <th id=\"T_35957eba_c055_11e9_acdb_d0a637ef6f85level0_row0\" class=\"row_heading level0 row0\" >178</th>\n",
       "                        <th id=\"T_35957eba_c055_11e9_acdb_d0a637ef6f85level1_row0\" class=\"row_heading level1 row0\" >Oathbreaker, Last Hope of the Breaking Storm</th>\n",
       "                        <td id=\"T_35957eba_c055_11e9_acdb_d0a637ef6f85row0_col0\" class=\"data row0 col0\" >12</td>\n",
       "                        <td id=\"T_35957eba_c055_11e9_acdb_d0a637ef6f85row0_col1\" class=\"data row0 col1\" >$4.23</td>\n",
       "                        <td id=\"T_35957eba_c055_11e9_acdb_d0a637ef6f85row0_col2\" class=\"data row0 col2\" >$50.76</td>\n",
       "            </tr>\n",
       "            <tr>\n",
       "                        <th id=\"T_35957eba_c055_11e9_acdb_d0a637ef6f85level0_row1\" class=\"row_heading level0 row1\" >82</th>\n",
       "                        <th id=\"T_35957eba_c055_11e9_acdb_d0a637ef6f85level1_row1\" class=\"row_heading level1 row1\" >Nirvana</th>\n",
       "                        <td id=\"T_35957eba_c055_11e9_acdb_d0a637ef6f85row1_col0\" class=\"data row1 col0\" >9</td>\n",
       "                        <td id=\"T_35957eba_c055_11e9_acdb_d0a637ef6f85row1_col1\" class=\"data row1 col1\" >$4.90</td>\n",
       "                        <td id=\"T_35957eba_c055_11e9_acdb_d0a637ef6f85row1_col2\" class=\"data row1 col2\" >$44.10</td>\n",
       "            </tr>\n",
       "            <tr>\n",
       "                        <th id=\"T_35957eba_c055_11e9_acdb_d0a637ef6f85level0_row2\" class=\"row_heading level0 row2\" >145</th>\n",
       "                        <th id=\"T_35957eba_c055_11e9_acdb_d0a637ef6f85level1_row2\" class=\"row_heading level1 row2\" >Fiery Glass Crusader</th>\n",
       "                        <td id=\"T_35957eba_c055_11e9_acdb_d0a637ef6f85row2_col0\" class=\"data row2 col0\" >9</td>\n",
       "                        <td id=\"T_35957eba_c055_11e9_acdb_d0a637ef6f85row2_col1\" class=\"data row2 col1\" >$4.58</td>\n",
       "                        <td id=\"T_35957eba_c055_11e9_acdb_d0a637ef6f85row2_col2\" class=\"data row2 col2\" >$41.22</td>\n",
       "            </tr>\n",
       "            <tr>\n",
       "                        <th id=\"T_35957eba_c055_11e9_acdb_d0a637ef6f85level0_row3\" class=\"row_heading level0 row3\" >92</th>\n",
       "                        <th id=\"T_35957eba_c055_11e9_acdb_d0a637ef6f85level1_row3\" class=\"row_heading level1 row3\" >Final Critic</th>\n",
       "                        <td id=\"T_35957eba_c055_11e9_acdb_d0a637ef6f85row3_col0\" class=\"data row3 col0\" >8</td>\n",
       "                        <td id=\"T_35957eba_c055_11e9_acdb_d0a637ef6f85row3_col1\" class=\"data row3 col1\" >$4.88</td>\n",
       "                        <td id=\"T_35957eba_c055_11e9_acdb_d0a637ef6f85row3_col2\" class=\"data row3 col2\" >$39.04</td>\n",
       "            </tr>\n",
       "            <tr>\n",
       "                        <th id=\"T_35957eba_c055_11e9_acdb_d0a637ef6f85level0_row4\" class=\"row_heading level0 row4\" >103</th>\n",
       "                        <th id=\"T_35957eba_c055_11e9_acdb_d0a637ef6f85level1_row4\" class=\"row_heading level1 row4\" >Singed Scalpel</th>\n",
       "                        <td id=\"T_35957eba_c055_11e9_acdb_d0a637ef6f85row4_col0\" class=\"data row4 col0\" >8</td>\n",
       "                        <td id=\"T_35957eba_c055_11e9_acdb_d0a637ef6f85row4_col1\" class=\"data row4 col1\" >$4.35</td>\n",
       "                        <td id=\"T_35957eba_c055_11e9_acdb_d0a637ef6f85row4_col2\" class=\"data row4 col2\" >$34.80</td>\n",
       "            </tr>\n",
       "    </tbody></table>"
      ],
      "text/plain": [
       "<pandas.io.formats.style.Styler at 0x11d5fdf60>"
      ]
     },
     "execution_count": 33,
     "metadata": {},
     "output_type": "execute_result"
    }
   ],
   "source": [
    "#Sort by strongest total purchase and reset index\n",
    "\n",
    "popular_formatted = popular_items.sort_values([\"Total Purchase Value\"],\n",
    "                                                   ascending=False).head()\n",
    "popular_formatted.style.format({\"Item Price\":\"${:,.2f}\",\n",
    "                                \"Total Purchase Value\":\"${:,.2f}\"})"
   ]
  },
  {
   "cell_type": "code",
   "execution_count": null,
   "metadata": {},
   "outputs": [],
   "source": []
  }
 ],
 "metadata": {
  "anaconda-cloud": {},
  "kernel_info": {
   "name": "python3"
  },
  "kernelspec": {
   "display_name": "Python 3",
   "language": "python",
   "name": "python3"
  },
  "language_info": {
   "codemirror_mode": {
    "name": "ipython",
    "version": 3
   },
   "file_extension": ".py",
   "mimetype": "text/x-python",
   "name": "python",
   "nbconvert_exporter": "python",
   "pygments_lexer": "ipython3",
   "version": "3.7.3"
  },
  "nteract": {
   "version": "0.2.0"
  }
 },
 "nbformat": 4,
 "nbformat_minor": 2
}
